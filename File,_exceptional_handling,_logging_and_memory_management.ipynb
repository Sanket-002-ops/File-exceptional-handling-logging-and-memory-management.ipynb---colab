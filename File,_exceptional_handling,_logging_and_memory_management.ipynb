{
  "cells": [
    {
      "cell_type": "markdown",
      "metadata": {
        "id": "c2qj9qgntZRd"
      },
      "source": [
        "#Question1: What is difference between interpreted and compiled languages?\n",
        "#1. Interpreted Languages:\n",
        "- Execute code line by line, without prior compilation to machine code.\n",
        "- Slower execution speed compared to compiled languages.\n",
        "- Easier debugging due to line-by-line execution.\n",
        "- Platform independence (usually), as the interpreter handles the translation to machine code.\n",
        "- Examples: Python, JavaScript, Ruby, PHP.\n",
        "\n",
        "\n",
        "#2. Compiled Languages:\n",
        "- Translate the entire source code into machine code before execution.       - Faster execution speed as the code is already in machine-readable form.\n",
        "- Debugging is more complex as you need to analyze the compiled output.\n",
        "- Platform dependence (usually) as compiled code is tied to the specific operating system and architecture it was compiled for.\n",
        "- Examples: C, C++, Java, C#, Go.\n",
        "\n"
      ]
    },
    {
      "cell_type": "markdown",
      "metadata": {
        "id": "IG1MV6IXu_jO"
      },
      "source": [
        "#Question2: What is exception handling in python?\n",
        "Exception handling in Python is a mechanism to gracefully handle errors and unexpected events during program execution.  Instead of crashing, your program can catch these errors, take appropriate actions (like logging the error, displaying a message to the user, or retrying the operation), and continue running.  This makes your code more robust and reliable.\n"
      ]
    },
    {
      "cell_type": "markdown",
      "metadata": {
        "id": "J6_XUm-dvtlO"
      },
      "source": [
        "# Question3: What is the purpose of the finally block in exception handling?\n",
        "\n",
        "The finally block in exception handling ensures that a specific piece of code is executed regardless of whether an exception occurred or not.  It's commonly used for cleanup actions, like closing files or releasing resources.  Whether an exception is caught or not, the code within the finally block will always run."
      ]
    },
    {
      "cell_type": "markdown",
      "metadata": {
        "id": "bmlOgLRjwqDP"
      },
      "source": [
        "# Question4: What is logging in python?\n",
        "Logging in Python is a way to record events that occur during the execution of a program.  It's incredibly useful for debugging, monitoring, and auditing applications.  The logging module provides a flexible and powerful framework for logging in Python."
      ]
    },
    {
      "cell_type": "markdown",
      "metadata": {
        "id": "mpg_nQ8kxml7"
      },
      "source": [
        "# Question5: What is the significance of the __del__ method in python?\n",
        "\n",
        "The `__del__` method in Python is a destructor. It's called when an object is about to be destroyed (garbage collected).  Its primary purpose is to perform cleanup actions, such as releasing resources held by the object (e.g., closing files, network connections, or releasing memory).\n",
        "\n",
        "However, it's important to note that the exact timing of when `__del__` is called is not guaranteed.  Python's garbage collector might delay object destruction until it's absolutely necessary.  Because of this unpredictability, relying on `__del__` for crucial cleanup tasks is generally discouraged.  Context managers (`with` statements) or explicit calls to cleanup methods are preferred for reliable resource management.\n"
      ]
    },
    {
      "cell_type": "markdown",
      "metadata": {
        "id": "abVtKxK_yjeA"
      },
      "source": [
        "# Question6: What is the difference between import and form ... import  in python?\n",
        "\n",
        "# `import` vs. `from ... import` in Python\n",
        "\n",
        "# 1. `import`\n",
        "- Imports an entire module into the current namespace.\n",
        "- To access elements within the module, you must use the module name as a prefix.\n",
        "\n",
        "# 2. `from ... import`\n",
        "- Imports specific attributes (functions, classes, variables) from a module into the current namespace.\n",
        "- You can directly use the imported names without the module prefix.\n",
        "\n",
        "\n"
      ]
    },
    {
      "cell_type": "markdown",
      "metadata": {
        "id": "2vkiyykwz6Yt"
      },
      "source": [
        "# Question7: How can you handle multiple exceptions in python?"
      ]
    },
    {
      "cell_type": "code",
      "execution_count": null,
      "metadata": {
        "colab": {
          "background_save": true
        },
        "id": "UsZR0A2putQw",
        "outputId": "7ff48c0f-9334-497d-b696-26cc77ccc5b7"
      },
      "outputs": [
        {
          "name": "stdout",
          "output_type": "stream",
          "text": [
            "Division by zero error occurred.\n",
            "This will always be printed.\n"
          ]
        }
      ],
      "source": [
        "# : How can you handle multiple exceptions in python?\n",
        "\n",
        "def handle_multiple_exceptions():\n",
        "    try:\n",
        "        # Code that might raise multiple types of exceptions\n",
        "        result = 10 / 0  # ZeroDivisionError\n",
        "        # Accessing a non-existent key in a dictionary\n",
        "        my_dict = {\"a\": 1, \"b\": 2}\n",
        "        value = my_dict[\"c\"] #KeyError\n",
        "        # Opening a non-existent file\n",
        "        with open(\"nonexistent_file.txt\", \"r\") as file: # FileNotFoundError\n",
        "            contents = file.read()\n",
        "    except ZeroDivisionError:\n",
        "        print(\"Division by zero error occurred.\")\n",
        "    except KeyError:\n",
        "        print(\"Key error occurred.\")\n",
        "    except FileNotFoundError:\n",
        "        print(\"File not found.\")\n",
        "    except Exception as e:  # Catching any other general exception\n",
        "        print(f\"An unexpected error occurred: {e}\")\n",
        "    else:  # Executed if no exceptions occurred\n",
        "        print(\"No errors occurred.\")\n",
        "    finally:  # Always executed, regardless of exceptions\n",
        "        print(\"This will always be printed.\")\n",
        "\n",
        "# Example usage\n",
        "handle_multiple_exceptions()"
      ]
    },
    {
      "cell_type": "markdown",
      "metadata": {
        "id": "YuQ0aIYOElEh"
      },
      "source": [
        "# Question8: What is the purpose of the with statement when handling files in python?\n",
        "\n",
        "The `with` statement in Python is used for context management. When dealing with files, the `with` statement ensures that the file is properly closed even if errors occur.  Without `with`, you would need to explicitly close the file using `file.close()` in a `finally` block to guarantee closure, which is more verbose and prone to errors if you forget to include it or if exceptions arise before the close operation.\n",
        "\n",
        "The `with` statement simplifies the process. It guarantees that the file's `__exit__` method (which handles closing the file) will be called, regardless of whether an exception occurred within the `with` block. This eliminates the need for manual cleanup and significantly reduces the risk of resource leaks (e.g., leaving files open).\n"
      ]
    },
    {
      "cell_type": "markdown",
      "metadata": {
        "id": "1F1YS6ZRFNx4"
      },
      "source": [
        "# Question9: What is the difference between multithreading and multiprocessing ?\n",
        "\n",
        "# Multithreading vs. Multiprocessing in Python\n",
        "\n",
        "# Multithreading:\n",
        "- Multiple threads within a single process share the same memory space.\n",
        "- Good for I/O-bound tasks (waiting for network requests, file operations) where threads can switch while waiting.\n",
        "- Limited by the Global Interpreter Lock (GIL) in CPython, preventing true parallelism for CPU-bound tasks.  Only one thread executes Python bytecode at a time.\n",
        "- Simpler to implement than multiprocessing.\n",
        "- Less overhead compared to multiprocessing.\n",
        "\n",
        "# Multiprocessing:\n",
        "- Multiple processes, each with its own memory space.\n",
        "- Ideal for CPU-bound tasks (heavy computations) as processes bypass the GIL limitation and can utilize multiple CPU cores.\n",
        "- More complex to set up than multithreading due to inter-process communication (IPC).\n",
        "- Higher overhead compared to multithreading due to process creation."
      ]
    },
    {
      "cell_type": "markdown",
      "metadata": {
        "id": "XfKgl2tfF0gv"
      },
      "source": [
        "# Question10: What are the advantages of using logging in program ?\n",
        "\n",
        "Advantages of using logging in a program:\n",
        "\n",
        "1. **Debugging:** Logging provides a detailed record of program execution, making it easier to identify the source of errors and bugs.  Instead of relying solely on print statements (which are often removed after debugging), logs remain for later analysis.\n",
        "\n",
        "2. **Monitoring:** Logs allow you to track the performance and behavior of your application over time. This information is essential for identifying performance bottlenecks, detecting anomalies, and ensuring that the application is running as expected.\n",
        "\n",
        "3. **Auditing:** Logs serve as an audit trail, recording user actions and system events. This is crucial for security, compliance, and understanding how the application is being used.\n",
        "\n",
        "4. **Troubleshooting:**  When a problem occurs, logs provide a historical record of events leading up to the issue, enabling quicker diagnosis and resolution.\n",
        "\n",
        "5. **Centralized Error Handling:** Logging can centralize error handling and reporting, making it easier to manage errors from different parts of the application.\n",
        "\n",
        "6. **Flexibility and Granularity:**  Logging frameworks (like Python's `logging` module) offer different logging levels (e.g., DEBUG, INFO, WARNING, ERROR, CRITICAL), allowing you to tailor the level of detail in the logs to your specific needs.  You can filter logs based on severity, making it easier to find important information.\n",
        "\n",
        "7. **Non-intrusive Monitoring:** Unlike print statements, which can clutter output and affect performance, well-implemented logging allows you to monitor application behavior without significantly impacting the application's normal operation.\n",
        "\n",
        "8. **Archiving and Analysis:** Logs can be easily archived and analyzed using various tools, enabling trend analysis, pattern recognition, and deeper insights into application behavior.\n"
      ]
    },
    {
      "cell_type": "markdown",
      "metadata": {
        "id": "z6pUx1V2GHfT"
      },
      "source": [
        "# Question11: What is memory management in python ?\n",
        "\n",
        "Memory management in Python is primarily handled through a combination of techniques, including reference counting and a cycle-detecting garbage collector.\n",
        "\n",
        "1. **Reference Counting:**  Each object in Python has a reference count, which keeps track of how many variables or data structures are currently pointing to it. When the reference count of an object drops to zero, it means no part of the program is using it anymore. At that point, the memory occupied by the object is automatically reclaimed.\n",
        "\n",
        "2. **Garbage Collection:** While reference counting handles most memory management tasks efficiently, it cannot deal with circular references. A circular reference occurs when two or more objects refer to each other in a cycle, preventing their reference counts from dropping to zero, even though they are no longer reachable from the main program. Python's garbage collector detects and removes such cycles, ensuring that memory is freed even in these cases.\n",
        "\n",
        "3. **Memory Pool:** Python also uses memory pools for small objects.  This improves allocation speed as pre-allocated memory blocks can be readily available for new objects, avoiding the overhead of requesting memory from the operating system for every small object allocation.\n",
        "\n"
      ]
    },
    {
      "cell_type": "markdown",
      "metadata": {
        "id": "CKWFJxYYG1f-"
      },
      "source": [
        "#Question12:What are the basic steps involved in exception handling in python ?"
      ]
    },
    {
      "cell_type": "code",
      "execution_count": null,
      "metadata": {
        "colab": {
          "base_uri": "https://localhost:8080/"
        },
        "id": "TWn9NbEY27IX",
        "outputId": "bbfa6e85-b8eb-46aa-e14f-5e5cd6f23a37"
      },
      "outputs": [
        {
          "name": "stdout",
          "output_type": "stream",
          "text": [
            "Division by zero error occurred.\n",
            "This will always be printed.\n"
          ]
        }
      ],
      "source": [
        "#: What are the basic steps involved in exception handling in python ?\n",
        "\n",
        "def handle_exception():\n",
        "    try:\n",
        "        # Code that might raise an exception\n",
        "        result = 10 / 0  # Example: Division by zero\n",
        "    except ZeroDivisionError:\n",
        "        print(\"Division by zero error occurred.\")\n",
        "    except Exception as e:  # Catching any other exception\n",
        "        print(f\"An unexpected error occurred: {e}\")\n",
        "    else:  # Executed if no exceptions occurred\n",
        "        print(\"No errors occurred.\")\n",
        "    finally:  # Always executed, regardless of exceptions\n",
        "        print(\"This will always be printed.\")\n",
        "\n",
        "# Example usage\n",
        "handle_exception()"
      ]
    },
    {
      "cell_type": "markdown",
      "metadata": {
        "id": "USnEhyJYHbnX"
      },
      "source": [
        "# Question13: Why is memory management important in python?\n",
        "Memory management in Python is crucial for several reasons:\n",
        "\n",
        "1. **Preventing Memory Leaks:**  Without proper memory management, programs can consume increasingly more memory over time, eventually leading to crashes or system instability. Python's garbage collection helps prevent this by automatically reclaiming memory occupied by objects that are no longer referenced.\n",
        "\n",
        "2. **Optimizing Performance:** Efficient memory management ensures that the program can use system resources optimally.  When memory is freed promptly, the program runs faster and doesn't slow down due to excessive memory usage.\n",
        "\n",
        "3. **Resource Availability:**  When programs use memory inefficiently, it reduces the amount of memory available for other processes on the system.  Proper memory management ensures that applications don't monopolize system resources.\n",
        "\n",
        "4. **Stability:**  Memory errors can lead to unpredictable behavior and crashes in the application.  Python's memory management helps maintain stability by minimizing the likelihood of such errors.\n",
        "\n",
        "\n",
        "5. **Correctness:** In some cases, memory management errors might not immediately lead to crashes, but they could result in incorrect or unexpected program behavior, making debugging more challenging.\n",
        "\n"
      ]
    },
    {
      "cell_type": "markdown",
      "metadata": {
        "id": "a9In6fR9IGp9"
      },
      "source": [
        "# Question14: What is the role of try and except in exception handling?\n",
        "\n",
        "The `try` and `except` blocks are fundamental to exception handling in Python.\n",
        "\n",
        "- **`try` block:**  This block contains the code that might potentially raise an exception.  The interpreter monitors the code within this block for errors.\n",
        "\n",
        "- **`except` block:** If an exception occurs within the `try` block, the corresponding `except` block is executed.  The `except` block specifies the type of exception it can handle.  If an exception occurs in the `try` block that matches the type listed in an `except` block, then that `except` block's code is executed.  If there is no matching `except` block, the exception propagates up to the next higher level (potentially causing your program to crash if not handled there either).  A general `except Exception` can be used as a catch-all for exceptions you don't specifically want to handle.\n"
      ]
    },
    {
      "cell_type": "markdown",
      "metadata": {
        "id": "qsLf0XDTIoSI"
      },
      "source": [
        "# Question15: How does python's garbage collection system work ?\n",
        "\n",
        "# Python's garbage collection system primarily uses reference counting and a cycle-detecting garbage collector.\n",
        "\n",
        "1. Reference Counting:\n",
        "Each object has a reference count that tracks how many variables or data structures point to it. When the count reaches zero, the object's memory is freed.\n",
        "\n",
        "2. Cyclic Garbage Collection:\n",
        "Reference counting can't handle circular references (objects referencing each other in a cycle).  The cyclic garbage collector detects and reclaims memory occupied by these unreachable cycles.\n",
        "\n",
        "3. Generation-based Garbage Collection:\n",
        "Python's garbage collector divides objects into generations. Newly created objects are in generation 0. Objects that survive multiple garbage collection cycles move to higher generations.  Garbage collection is performed more frequently on younger generations.  This optimization reduces overhead by focusing on objects that are more likely to become garbage.\n",
        "\n"
      ]
    },
    {
      "cell_type": "markdown",
      "metadata": {
        "id": "Xr34-f01JLUT"
      },
      "source": [
        "# Question16: What is the purpose of the else block in exception handling?\n",
        "\n",
        "The `else` block in exception handling is executed only if no exceptions occur within the preceding `try` block.  It provides a way to include code that should run only when the `try` block completes successfully, without being interrupted by an exception.  This separates the normal execution path from the exception handling path, making the code more readable and maintainable.\n"
      ]
    },
    {
      "cell_type": "markdown",
      "metadata": {
        "id": "ED3vMSG-Jj1M"
      },
      "source": [
        "# Qeustion17: What are the common logging levels in python?\n",
        "\n",
        "# Define logging levels\n",
        "*   logging.debug(\"This is a debug message.\")  # Detailed information, typically for developers.\n",
        "*   logging.info(\"This is an informational message.\")  # General information about the program's execution.\n",
        "*   logging.warning(\"This is a warning message.\")  # Indicates a potential problem, but the program can continue.\n",
        "*   logging.error(\"This is an error message.\")  # Indicates a more serious problem that may prevent some function from working.\n",
        "*   logging.critical(\"This is a critical message.\")  # Indicates a serious error that may stop the program from working.\n",
        "\n",
        "# Common Logging Levels in Python:\n",
        "1. DEBUG: Detailed information, typically of interest only when diagnosing problems.\n",
        "2. INFO: Confirmation that things are working as expected.\n",
        "3. WARNING: An indication that something unexpected happened, or indicative of some problem in the near future (e.g. ‘disk space low’).  The software is still working as expected.\n",
        "4. ERROR: Due to a more serious problem, the software has not been able to perform some function.\n",
        "5. CRITICAL: A serious error, indicating that the program itself may be unable to continue running."
      ]
    },
    {
      "cell_type": "markdown",
      "metadata": {
        "id": "NPDKevZCYAjV"
      },
      "source": [
        "# Question18: What is the difference between os.fork() and multiprocessing in python?\n",
        "\n",
        "# os.fork() vs. multiprocessing in Python\n",
        "\n",
        "# os.fork():\n",
        "- Available on Unix-like systems (Linux, macOS).\n",
        "- Creates a new process that's a copy of the parent process.\n",
        "- The child process has its own memory space, but it initially shares the same data with the parent.\n",
        "- Primarily used for creating processes at a low level.\n",
        "- In Python, `os.fork()` is less commonly used for concurrency compared to `multiprocessing`.\n",
        "\n",
        "# multiprocessing:\n",
        "- Provides a higher-level abstraction for creating and managing processes.\n",
        "- Works on both Unix-like systems and Windows.\n",
        "- Creates new processes that are completely separate from the parent process.\n",
        "- Offers better support for communication and data sharing between processes.\n",
        "- More robust and easier to manage than `os.fork()`.\n",
        "- Avoids the limitations imposed by the Global Interpreter Lock (GIL) in CPython."
      ]
    },
    {
      "cell_type": "markdown",
      "metadata": {
        "id": "GsNjBFnpYs7M"
      },
      "source": [
        "# Question19: What is the importance in closing a file in python?\n",
        "\n",
        "Closing a file in Python is crucial for several reasons:\n",
        "\n",
        "1. **Resource Management:**  Files are system resources.  Keeping files open unnecessarily consumes system resources (like file descriptors), which can eventually lead to resource exhaustion if many files are left open.  Closing files releases these resources back to the operating system, making them available for other processes.\n",
        "\n",
        "\n",
        "2. **Data Integrity:**  When you write data to a file, it's often buffered in memory before being physically written to disk.  Closing a file ensures that any buffered data is flushed to disk, guaranteeing that all the data you intended to write is actually written to the file. If you don't close the file and your program crashes, the buffered data may be lost.\n",
        "\n",
        "\n",
        "3. **Preventing Corruption:** Leaving files open, especially for writing, increases the risk of file corruption if the program terminates unexpectedly.  Proper closing flushes data and finalizes the file, minimizing this risk.\n",
        "\n",
        "\n",
        "4. **Portability:**  Properly closing files improves the portability of your code. Some operating systems have limits on the number of open files a process can have, and failure to close files may lead to errors or unexpected behavior on those systems."
      ]
    },
    {
      "cell_type": "markdown",
      "metadata": {
        "id": "feTA1iQOZNnw"
      },
      "source": [
        "# Question20: What is the difference between file.read(), file.readline() in python?\n",
        "\n",
        "# file.read() vs. file.readline() in Python\n",
        "\n",
        "# file.read()\n",
        "*    Reads the entire contents of the file into a single string.\n",
        "\n",
        "# file.readline()\n",
        "*   Reads a single line from the file.  It returns the line including the newline character at the end.  If it reaches the end of the file, it returns an empty string.  You can use a loop to read all lines one by one."
      ]
    },
    {
      "cell_type": "markdown",
      "metadata": {
        "id": "cVCs80PLZnWC"
      },
      "source": [
        "# Question21: What is the logging module in python used for?\n",
        "\n",
        "The logging module in Python is used to record events that occur during the execution of a program.  It's incredibly useful for debugging, monitoring, and auditing applications.  The logging module provides a flexible and powerful framework for logging in Python.\n"
      ]
    },
    {
      "cell_type": "markdown",
      "metadata": {
        "id": "Wfb9wfKCaK-f"
      },
      "source": [
        "# Question22: What is the os module in python used for in file handling ?\n",
        "\n",
        "The `os` module in Python is used for interacting with the operating system, including file handling.  While it doesn't directly handle file *content*, it provides functions for various file-related operations such as:\n",
        "\n",
        "* **File and Directory Manipulation.\n",
        "\n",
        "* **Path Operations.\n",
        "\n",
        "* **File Statistics.\n",
        "\n",
        "* **Environment Variables.\n",
        "\n",
        "* **Process Management."
      ]
    },
    {
      "cell_type": "markdown",
      "metadata": {
        "id": "hk8eTEX9a6lo"
      },
      "source": [
        "# Question23: What are the challenges associated with memory management in python?\n",
        "\n",
        "# Memory Management Challenges in Python\n",
        "\n",
        "1. Circular References.\n",
        "\n",
        "2. Large Objects and Data Structures.\n",
        "\n",
        "3. Dynamic Typing.  \n",
        "\n",
        "4. Global Interpreter Lock (GIL).\n",
        "\n",
        "5. Third-Party Libraries.\n",
        "\n",
        "6. Unmanaged Resources.\n",
        "\n",
        "7. Inefficient Algorithms."
      ]
    },
    {
      "cell_type": "code",
      "execution_count": null,
      "metadata": {
        "colab": {
          "background_save": true
        },
        "id": "blM79xswV1zK",
        "outputId": "c744ab5a-6384-4c83-f98d-fbc9f3041a29"
      },
      "outputs": [
        {
          "name": "stdout",
          "output_type": "stream",
          "text": [
            "Caught a ZeroDivisionError\n",
            "This always executes\n",
            "Handling the original ZeroDivisionError at the top level\n"
          ]
        }
      ],
      "source": [
        "\n",
        "\n",
        "def raise_exception_example():\n",
        "    try:\n",
        "        # Simulate a condition that should raise an exception\n",
        "        x = 10 / 0  # This will cause a ZeroDivisionError\n",
        "\n",
        "    except ZeroDivisionError:\n",
        "        print(\"Caught a ZeroDivisionError\")\n",
        "        raise  # Re-raise the exception\n",
        "\n",
        "    except Exception as e:\n",
        "        print(f\"Caught a general exception: {e}\")\n",
        "        raise ValueError(\"A different exception was raised\") from e # Raise a different exception\n",
        "\n",
        "\n",
        "    finally:\n",
        "        print(\"This always executes\")\n",
        "\n",
        "# Example usage\n",
        "try:\n",
        "    raise_exception_example()\n",
        "except ZeroDivisionError:\n",
        "    print(\"Handling the original ZeroDivisionError at the top level\")\n",
        "except ValueError as ve:\n",
        "    print(f\"Handling the ValueError: {ve}\")\n"
      ]
    },
    {
      "cell_type": "markdown",
      "source": [
        "#Question24: How do you raise an exception manually in python?"
      ],
      "metadata": {
        "id": "gIPp_kTXSnVe"
      }
    },
    {
      "cell_type": "code",
      "source": [
        "\n",
        "\n",
        "def raise_exception_example():\n",
        "    raise ValueError(\"This is a manually raised exception.\")\n",
        "    # Or raise any other exception type with a custom message\n",
        "    # raise TypeError(\"Invalid data type\")\n",
        "\n",
        "# Example usage\n",
        "try:\n",
        "    raise_exception_example()\n",
        "except ValueError as e:\n",
        "    print(f\"Caught a ValueError: {e}\")"
      ],
      "metadata": {
        "colab": {
          "base_uri": "https://localhost:8080/"
        },
        "id": "M9L1FLKdQoOi",
        "outputId": "750e0c52-3e34-4d41-fc3b-ed0fb5484ca2"
      },
      "execution_count": null,
      "outputs": [
        {
          "output_type": "stream",
          "name": "stdout",
          "text": [
            "Caught a ValueError: This is a manually raised exception.\n"
          ]
        }
      ]
    },
    {
      "cell_type": "markdown",
      "source": [
        "# Question25: Why is it important to use multithreading in certain application?\n",
        "\n",
        "Multithreading is important in applications that involve I/O-bound tasks, where threads can switch while waiting for operations like network requests or file operations, thus improving responsiveness and efficiency.  However, due to the Global Interpreter Lock (GIL) in CPython, multithreading is not suitable for CPU-bound tasks in Python, as it prevents true parallelism.  Multiprocessing is a better choice for CPU-bound operations, as processes bypass the GIL limitation and can fully utilize multiple CPU cores.\n"
      ],
      "metadata": {
        "id": "Ref3fLMBTNTW"
      }
    },
    {
      "cell_type": "markdown",
      "source": [
        "# ***Practical Questions***"
      ],
      "metadata": {
        "id": "mce57YDsTWgg"
      }
    },
    {
      "cell_type": "markdown",
      "source": [
        "#Question1: How can you open a file for writing in python and write a string to it?"
      ],
      "metadata": {
        "id": "123E4n-zU5wp"
      }
    },
    {
      "cell_type": "code",
      "source": [
        "file  = open(\"file_open.txt\", \"w\")\n",
        "file.write(\"THIS IS MY FIRST LINE IN THE FILE\")\n",
        "print(file)"
      ],
      "metadata": {
        "colab": {
          "base_uri": "https://localhost:8080/"
        },
        "id": "x3Vi8cayTkWa",
        "outputId": "df2f1096-c9b6-411b-c6ff-4d7e39ab205f"
      },
      "execution_count": null,
      "outputs": [
        {
          "output_type": "stream",
          "name": "stdout",
          "text": [
            "<_io.TextIOWrapper name='file_open.txt' mode='w' encoding='UTF-8'>\n"
          ]
        }
      ]
    },
    {
      "cell_type": "markdown",
      "source": [
        "#Question2: Write a python program to read the contents of a file and print each line?"
      ],
      "metadata": {
        "id": "ysPnR4RHVNeL"
      }
    },
    {
      "cell_type": "code",
      "source": [
        "file = open(\"file.txt\", \"w\")\n",
        "file.write(\"Hello sir can you help me?\\n\")\n",
        "file.write(\"My name is SANKET VISHWAKARMA.\\n\")\n",
        "file.write(\"I am a Data Science Student at PW Skills.\\n\")\n",
        "file.write(\"My Graduation is Compeleted with science streem(bio).\\n\")\n",
        "file.write(\"I don't  know how to create a logic behind code.\\n\")\n",
        "file.write(\"pls Help me I'm requesting to you.\\n.\")\n",
        "file.close()\n",
        "\n",
        "\n",
        "file = open(\"file.txt\", \"r\")\n",
        "lines = file.readlines()\n",
        "for line in lines:\n",
        "    print(line)\n",
        "file.close()"
      ],
      "metadata": {
        "colab": {
          "base_uri": "https://localhost:8080/"
        },
        "id": "FkfUAL1PUBOo",
        "outputId": "46aee436-cb2b-4c52-ccd1-438c3483d841"
      },
      "execution_count": null,
      "outputs": [
        {
          "output_type": "stream",
          "name": "stdout",
          "text": [
            "Hello sir can you help me?\n",
            "\n",
            "My name is SANKET VISHWAKARMA.\n",
            "\n",
            "I am a Data Science Student at PW Skills.\n",
            "\n",
            "My Graduation is Compeleted with science streem(bio).\n",
            "\n",
            "I don't  know how to create a logic behind code.\n",
            "\n",
            "pls Help me I'm requesting to you.\n",
            "\n",
            ".\n"
          ]
        }
      ]
    },
    {
      "cell_type": "markdown",
      "source": [
        "#Question3: How would you handle a case where the file doesn't exist while trying to open it for reading?"
      ],
      "metadata": {
        "id": "dhhnl--HZlWN"
      }
    },
    {
      "cell_type": "code",
      "source": [
        "\n",
        "try:\n",
        "    file = open(\"nonexistent_file.txt\", \"r\")\n",
        "    # Process the file if it exists\n",
        "    contents = file.read()\n",
        "    print(contents)\n",
        "    file.close()\n",
        "except FileNotFoundError:\n",
        "    print(\"The specified file does not exist.\")\n",
        "except Exception as e:\n",
        "    print(f\"An error occurred: {e}\")"
      ],
      "metadata": {
        "colab": {
          "base_uri": "https://localhost:8080/"
        },
        "id": "8hEriRY8Zhqd",
        "outputId": "0d97a64c-da7c-4c2f-ece7-5cf6337f0d3e"
      },
      "execution_count": null,
      "outputs": [
        {
          "output_type": "stream",
          "name": "stdout",
          "text": [
            "The specified file does not exist.\n"
          ]
        }
      ]
    },
    {
      "cell_type": "markdown",
      "source": [
        "#Question4: Write a Python script that reads from one file and write its contents to another file?"
      ],
      "metadata": {
        "id": "_FP_i2fQahKt"
      }
    },
    {
      "cell_type": "code",
      "source": [
        "\n",
        "def copy_file(source_file, destination_file):\n",
        "    try:\n",
        "        with open(source_file, 'r') as source:\n",
        "            with open(destination_file, 'w') as destination:\n",
        "                for line in source:\n",
        "                    destination.write(line)\n",
        "        print(f\"File '{source_file}' copied to '{destination_file}' successfully.\")\n",
        "    except FileNotFoundError:\n",
        "        print(f\"Error: Source file '{source_file}' not found.\")\n",
        "    except Exception as e:\n",
        "        print(f\"An error occurred: {e}\")\n",
        "\n",
        "# Example usage\n",
        "copy_file(\"file.txt\", \"destination.txt\")"
      ],
      "metadata": {
        "colab": {
          "base_uri": "https://localhost:8080/"
        },
        "id": "A8MXZhiAc2Q_",
        "outputId": "a3a5b2bc-ce27-443d-edb3-97bc10d8a593"
      },
      "execution_count": null,
      "outputs": [
        {
          "output_type": "stream",
          "name": "stdout",
          "text": [
            "File 'file.txt' copied to 'destination.txt' successfully.\n"
          ]
        }
      ]
    },
    {
      "cell_type": "markdown",
      "source": [
        "#Question5: How would you catch and handal division  by zero error in python?"
      ],
      "metadata": {
        "id": "NHEk706Nba-9"
      }
    },
    {
      "cell_type": "code",
      "source": [
        "\n",
        "def divide_numbers(a, b):\n",
        "    try:\n",
        "        result = a / b\n",
        "        return result\n",
        "    except ZeroDivisionError:\n",
        "        print(\"Error: Division by zero\")\n",
        "        return None  # Or raise a custom exception\n"
      ],
      "metadata": {
        "id": "E9EFm9Ybc81u"
      },
      "execution_count": null,
      "outputs": []
    },
    {
      "cell_type": "code",
      "source": [
        "numerator = 10\n",
        "denominator = 0\n",
        "result = divide_numbers(numerator, denominator)\n",
        "\n",
        "if result is not None:\n",
        "    print(f\"Result: {result}\")"
      ],
      "metadata": {
        "colab": {
          "base_uri": "https://localhost:8080/"
        },
        "id": "zY0AWR3ecTCB",
        "outputId": "72b5bec5-83fc-4365-c0ad-32cfe7340ece"
      },
      "execution_count": null,
      "outputs": [
        {
          "output_type": "stream",
          "name": "stdout",
          "text": [
            "Error: Division by zero\n"
          ]
        }
      ]
    },
    {
      "cell_type": "markdown",
      "source": [
        "#Question6: Write a python program that logs an error message to a log file when a division by zero exception occures."
      ],
      "metadata": {
        "id": "7_Db60xjdOUL"
      }
    },
    {
      "cell_type": "code",
      "source": [
        "\n",
        "\n",
        "import logging\n",
        "\n",
        "def division_with_logging(a, b):\n",
        "    try:\n",
        "        result = a / b\n",
        "        return result\n",
        "    except ZeroDivisionError:\n",
        "        logging.error(\"Division by zero occurred.\")\n",
        "        return None\n",
        "\n",
        "# Configure logging to write to a file\n",
        "logging.basicConfig(filename='error_log.txt', level=logging.ERROR,\n",
        "                    format='%(asctime)s - %(levelname)s - %(message)s')\n",
        "\n",
        "# Example usage\n",
        "numerator = 10\n",
        "denominator = 0\n",
        "result = division_with_logging(numerator, denominator)\n",
        "\n",
        "if result is not None:\n",
        "    print(f\"Result: {result}\")\n",
        "else:\n",
        "    print(\"An error occurred. Check the error_log.txt file for details.\")\n"
      ],
      "metadata": {
        "id": "GKh_cLxcdw7v",
        "colab": {
          "base_uri": "https://localhost:8080/"
        },
        "outputId": "383394e9-ee66-47a2-fc41-da397cf693dd"
      },
      "execution_count": null,
      "outputs": [
        {
          "output_type": "stream",
          "name": "stderr",
          "text": [
            "ERROR:root:Division by zero occurred.\n"
          ]
        },
        {
          "output_type": "stream",
          "name": "stdout",
          "text": [
            "An error occurred. Check the error_log.txt file for details.\n"
          ]
        }
      ]
    },
    {
      "cell_type": "markdown",
      "source": [
        "#Question7: How would you log information at different levels (INFO, ERROR, WARNING) in python using the logging modules?"
      ],
      "metadata": {
        "id": "ikXToG0EFLvA"
      }
    },
    {
      "cell_type": "code",
      "source": [
        "import logging\n",
        "\n",
        "# Configure the logging system\n",
        "logging.basicConfig(level=logging.DEBUG,  # Set the root logger's level\n",
        "                    format='%(asctime)s - %(levelname)s - %(message)s',\n",
        "                    filename='my_app.log',  # Log to a file\n",
        "                    filemode='w')  # Overwrite the log file each time\n",
        "\n",
        "logger = logging.getLogger(__name__)\n",
        "\n",
        "logger.info(\"This is an informational message.\")\n",
        "logger.error(\"This is an error message.\")\n",
        "logger.warning(\"This is a warning message.\")\n"
      ],
      "metadata": {
        "colab": {
          "base_uri": "https://localhost:8080/"
        },
        "id": "98tdfIsgMvzE",
        "outputId": "3a3305e7-f684-4389-d253-4b533dd21d00"
      },
      "execution_count": 3,
      "outputs": [
        {
          "output_type": "stream",
          "name": "stderr",
          "text": [
            "ERROR:__main__:This is an error message.\n",
            "WARNING:__main__:This is a warning message.\n"
          ]
        }
      ]
    },
    {
      "cell_type": "markdown",
      "source": [
        "#Question8: Write a program to handle a file opening error using exception handling."
      ],
      "metadata": {
        "id": "IONSa8laDD4j"
      }
    },
    {
      "cell_type": "code",
      "source": [
        "import logging\n",
        "\n",
        "def file_handling_example(filename):\n",
        "    try:\n",
        "        with open(filename, 'r') as file:\n",
        "            contents = file.read()\n",
        "            print(contents)\n",
        "    except FileNotFoundError:\n",
        "        print(f\"Error: File '{filename}' not found.\")\n",
        "    except Exception as e:\n",
        "        print(f\"An unexpected error occurred: {e}\")\n",
        "\n",
        "# Example usage (replace 'your_file.txt' with the actual filename)\n",
        "file_handling_example('your_file.txt')"
      ],
      "metadata": {
        "colab": {
          "base_uri": "https://localhost:8080/"
        },
        "id": "9rhioiciCr96",
        "outputId": "b5d7c894-d0c1-4cac-9b67-f03f6dcbf1f2"
      },
      "execution_count": 2,
      "outputs": [
        {
          "output_type": "stream",
          "name": "stdout",
          "text": [
            "Error: File 'your_file.txt' not found.\n"
          ]
        }
      ]
    },
    {
      "cell_type": "markdown",
      "source": [
        "#Question9: How  can you read a file line by line and store its content in a list in python?"
      ],
      "metadata": {
        "id": "n2YZh-gyE0hj"
      }
    },
    {
      "cell_type": "code",
      "source": [
        "\n",
        "def read_file_into_list(filepath):\n",
        "    \"\"\"Reads a file line by line and stores its content in a list.\n",
        "\n",
        "    Args:\n",
        "        filepath: The path to the file.\n",
        "\n",
        "    Returns:\n",
        "        A list of strings, where each string is a line from the file.\n",
        "        Returns an empty list if the file does not exist or an error occurs.\n",
        "    \"\"\"\n",
        "    try:\n",
        "        with open(filepath, 'r') as file:\n",
        "            lines = file.readlines()\n",
        "            return lines\n",
        "    except FileNotFoundError:\n",
        "        print(f\"Error: File '{filepath}' not found.\")\n",
        "        return []\n",
        "    except Exception as e:\n",
        "        print(f\"An error occurred while reading the file: {e}\")\n",
        "        return []"
      ],
      "metadata": {
        "id": "KXAdLlSxEn9D"
      },
      "execution_count": 6,
      "outputs": []
    },
    {
      "cell_type": "markdown",
      "source": [
        "#Question10: How can you append data to an existing file in python ?"
      ],
      "metadata": {
        "id": "zOliSSmGFXSR"
      }
    },
    {
      "cell_type": "code",
      "source": [
        "\n",
        "def append_to_file(filename, data):\n",
        "    \"\"\"Appends data to an existing file.\n",
        "\n",
        "    Args:\n",
        "        filename: The name of the file to append to.\n",
        "        data: The data to append.\n",
        "    \"\"\"\n",
        "    try:\n",
        "        with open(filename, 'a') as file:\n",
        "            file.write(data)\n",
        "    except FileNotFoundError:\n",
        "        print(f\"Error: File '{filename}' not found.\")\n",
        "    except Exception as e:\n",
        "        print(f\"An error occurred: {e}\")"
      ],
      "metadata": {
        "id": "9hFZN4vdFdWr"
      },
      "execution_count": 8,
      "outputs": []
    },
    {
      "cell_type": "markdown",
      "source": [
        "#Question11: Write a python program that use a try-except block to handle an error when attempting to access a dictionary key that doesn't exist."
      ],
      "metadata": {
        "id": "cIbd5HMWGXlE"
      }
    },
    {
      "cell_type": "code",
      "source": [
        "\n",
        "def access_dictionary(my_dict, key):\n",
        "    try:\n",
        "        value = my_dict[key]\n",
        "        print(f\"The value for key '{key}' is: {value}\")\n",
        "    except KeyError:\n",
        "        print(f\"Error: Key '{key}' not found in the dictionary.\")\n",
        "\n",
        "# Example usage\n",
        "my_dictionary = {\"a\": 1, \"b\": 2, \"c\": 3}\n",
        "\n",
        "access_dictionary(my_dictionary, \"b\")  # Output: The value for key 'b' is: 2\n",
        "access_dictionary(my_dictionary, \"d\")  # Output: Error: Key 'd' not found in the dictionary."
      ],
      "metadata": {
        "colab": {
          "base_uri": "https://localhost:8080/"
        },
        "id": "SF4SEgn7Gda-",
        "outputId": "49a2fa9f-bc83-45c6-a906-fe33ef106df5"
      },
      "execution_count": 10,
      "outputs": [
        {
          "output_type": "stream",
          "name": "stdout",
          "text": [
            "The value for key 'b' is: 2\n",
            "Error: Key 'd' not found in the dictionary.\n"
          ]
        }
      ]
    },
    {
      "cell_type": "markdown",
      "source": [
        "# Question12: Write a program to demonstrates using multiple except block to handle different types of exceptions."
      ],
      "metadata": {
        "id": "nQKKBPTJHrqm"
      }
    },
    {
      "cell_type": "code",
      "source": [
        "\n",
        "\n",
        "import logging\n",
        "\n",
        "def raise_exception_example():\n",
        "    try:\n",
        "        # Simulate a condition that should raise an exception\n",
        "        x = 10 / 0  # This will cause a ZeroDivisionError\n",
        "\n",
        "    except ZeroDivisionError:\n",
        "        print(\"Caught a ZeroDivisionError\")\n",
        "        logging.error(\"ZeroDivisionError occurred.\")\n",
        "        raise  # Re-raise the exception\n",
        "\n",
        "    except TypeError:\n",
        "        print(\"Caught a TypeError\")\n",
        "        logging.error(\"TypeError occurred.\")\n",
        "        # Handle TypeError specifically\n",
        "\n",
        "    except Exception as e:\n",
        "        print(f\"Caught a general exception: {e}\")\n",
        "        logging.exception(\"An unexpected exception occurred.\") # Log the traceback\n",
        "        raise ValueError(\"A different exception was raised\") from e # Raise a different exception\n",
        "\n",
        "    finally:\n",
        "        print(\"This always executes\")\n",
        "\n",
        "# Configure logging\n",
        "logging.basicConfig(filename='app.log', level=logging.ERROR,\n",
        "                    format='%(asctime)s - %(levelname)s - %(message)s')\n",
        "\n"
      ],
      "metadata": {
        "id": "hbqcTq4jBrvO"
      },
      "execution_count": 13,
      "outputs": []
    },
    {
      "cell_type": "code",
      "source": [
        "try:\n",
        "    raise_exception_example()\n",
        "except ZeroDivisionError:\n",
        "    print(\"Handling the original ZeroDivisionError at the top level\")\n",
        "    logging.exception(\"ZeroDivisionError caught at the top level.\")\n",
        "except ValueError as ve:\n",
        "    print(f\"Handling the ValueError: {ve}\")\n",
        "    logging.exception(\"ValueError caught at the top level.\")\n",
        "except Exception as e:\n",
        "    print(f\"Handling other exceptions: {e}\")\n",
        "    logging.exception(\"Other Exception caught at the top level.\")"
      ],
      "metadata": {
        "colab": {
          "base_uri": "https://localhost:8080/"
        },
        "id": "69sSKBt1HQxP",
        "outputId": "c1bda188-a630-4652-e2f4-22ff7a2db1e0"
      },
      "execution_count": 15,
      "outputs": [
        {
          "output_type": "stream",
          "name": "stderr",
          "text": [
            "ERROR:root:ZeroDivisionError occurred.\n",
            "ERROR:root:ZeroDivisionError caught at the top level.\n",
            "Traceback (most recent call last):\n",
            "  File \"<ipython-input-15-92f0cd362318>\", line 2, in <cell line: 1>\n",
            "    raise_exception_example()\n",
            "  File \"<ipython-input-13-7c99e474dbd7>\", line 8, in raise_exception_example\n",
            "    x = 10 / 0  # This will cause a ZeroDivisionError\n",
            "ZeroDivisionError: division by zero\n"
          ]
        },
        {
          "output_type": "stream",
          "name": "stdout",
          "text": [
            "Caught a ZeroDivisionError\n",
            "This always executes\n",
            "Handling the original ZeroDivisionError at the top level\n"
          ]
        }
      ]
    },
    {
      "cell_type": "markdown",
      "source": [
        "# Question13: How you check if a file exists before attempting to read it in python?"
      ],
      "metadata": {
        "id": "E3yLq8fTIzj_"
      }
    },
    {
      "cell_type": "code",
      "source": [
        "\n",
        "\n",
        "import os\n",
        "\n",
        "def read_file_if_exists(filepath):\n",
        "    if os.path.exists(filepath):\n",
        "        try:\n",
        "            with open(filepath, 'r') as file:\n",
        "                contents = file.read()\n",
        "                print(contents)\n",
        "        except Exception as e:\n",
        "            print(f\"An error occurred while reading the file: {e}\")\n",
        "    else:\n",
        "        print(f\"Error: File '{filepath}' not found.\")"
      ],
      "metadata": {
        "id": "aPQsL7fqIPAR"
      },
      "execution_count": 16,
      "outputs": []
    },
    {
      "cell_type": "markdown",
      "source": [
        "# Question14: Write a python program that uses the logging modules to log both informational and error messages."
      ],
      "metadata": {
        "id": "sU40ovxDJ2W7"
      }
    },
    {
      "cell_type": "code",
      "source": [
        "\n",
        "\n",
        "import logging\n",
        "\n",
        "# Configure the logging system\n",
        "logging.basicConfig(level=logging.INFO,  # Set the root logger's level\n",
        "                    format='%(asctime)s - %(levelname)s - %(message)s')\n",
        "\n",
        "# Create a logger instance (optional, but good practice)\n",
        "logger = logging.getLogger(__name__)\n",
        "\n",
        "try:\n",
        "    # Your code that might raise exceptions\n",
        "    result = 10 / 0  # This will cause a ZeroDivisionError\n",
        "\n",
        "except ZeroDivisionError as e:\n",
        "    # Log the error\n",
        "    logger.error(f\"An error occurred: {e}\")\n",
        "\n",
        "    # Handle the exception (optional)\n",
        "    print(\"Division by zero error occurred. Please check the logs for details.\")\n",
        "\n",
        "else:\n",
        "    # Code to be executed if no exception occurs\n",
        "    logger.info(\"Operation completed successfully.\")\n",
        "    print(f\"Result: {result}\")\n"
      ],
      "metadata": {
        "colab": {
          "base_uri": "https://localhost:8080/"
        },
        "id": "EUT3NDntJE3m",
        "outputId": "7bff80a2-628c-4468-ae9a-174a643e72d1"
      },
      "execution_count": 17,
      "outputs": [
        {
          "output_type": "stream",
          "name": "stderr",
          "text": [
            "ERROR:__main__:An error occurred: division by zero\n"
          ]
        },
        {
          "output_type": "stream",
          "name": "stdout",
          "text": [
            "Division by zero error occurred. Please check the logs for details.\n"
          ]
        }
      ]
    },
    {
      "cell_type": "markdown",
      "source": [
        "# Question15: Write a python program that prints the content of a file and handles the case when the file is empty."
      ],
      "metadata": {
        "id": "EThzeBQ5Ku0K"
      }
    },
    {
      "cell_type": "code",
      "source": [
        "\n",
        "import os\n",
        "\n",
        "def print_file_content(filepath):\n",
        "    \"\"\"Prints the content of a file, handling empty files.\n",
        "\n",
        "    Args:\n",
        "        filepath: The path to the file.\n",
        "    \"\"\"\n",
        "    try:\n",
        "        with open(filepath, 'r') as file:\n",
        "            contents = file.read()\n",
        "            if not contents:\n",
        "                print(\"The file is empty.\")\n",
        "            else:\n",
        "                print(contents)\n",
        "    except FileNotFoundError:\n",
        "        print(f\"Error: File '{filepath}' not found.\")\n",
        "    except Exception as e:\n",
        "        print(f\"An error occurred: {e}\")\n",
        "\n",
        "# Example usage:\n",
        "print_file_content(\"file.txt\") # Replace with your file path"
      ],
      "metadata": {
        "colab": {
          "base_uri": "https://localhost:8080/"
        },
        "id": "4HlusC6AJ_Af",
        "outputId": "743ed2c3-3c80-4bb4-9c6d-8f29adb4a5df"
      },
      "execution_count": 18,
      "outputs": [
        {
          "output_type": "stream",
          "name": "stdout",
          "text": [
            "Error: File 'file.txt' not found.\n"
          ]
        }
      ]
    },
    {
      "cell_type": "markdown",
      "source": [
        "# Question16: Demonstrate how to use memory profiling to check the memory usage of a small program."
      ],
      "metadata": {
        "id": "PT4Vr9hsLajj"
      }
    },
    {
      "cell_type": "code",
      "source": [
        "\n",
        "!pip install memory_profiler\n",
        "\n",
        "import os\n",
        "import logging\n",
        "from memory_profiler import profile\n",
        "\n",
        "# ... (your existing code) ...\n",
        "\n",
        "@profile\n",
        "def raise_exception_example():\n",
        "    try:\n",
        "        # Simulate a condition that should raise an exception\n",
        "        x = 10 / 0  # This will cause a ZeroDivisionError\n",
        "\n",
        "    except ZeroDivisionError:\n",
        "        print(\"Caught a ZeroDivisionError\")\n",
        "        raise  # Re-raise the exception\n",
        "\n",
        "    except Exception as e:\n",
        "        print(f\"Caught a general exception: {e}\")\n",
        "        raise ValueError(\"A different exception was raised\") from e # Raise a different exception\n",
        "\n",
        "\n",
        "    finally:\n",
        "        print(\"This always executes\")\n",
        "\n",
        "# Example usage\n",
        "try:\n",
        "    raise_exception_example()\n",
        "except ZeroDivisionError:\n",
        "    print(\"Handling the original ZeroDivisionError at the top level\")\n",
        "except ValueError as ve:\n",
        "    print(f\"Handling the ValueError: {ve}\")"
      ],
      "metadata": {
        "colab": {
          "base_uri": "https://localhost:8080/"
        },
        "id": "HC9iiQe0K1YP",
        "outputId": "ae417ecc-0d5a-4bc2-b48d-b11766ac1cdf"
      },
      "execution_count": 21,
      "outputs": [
        {
          "output_type": "stream",
          "name": "stdout",
          "text": [
            "Requirement already satisfied: memory_profiler in /usr/local/lib/python3.10/dist-packages (0.61.0)\n",
            "Requirement already satisfied: psutil in /usr/local/lib/python3.10/dist-packages (from memory_profiler) (5.9.5)\n",
            "ERROR: Could not find file <ipython-input-21-544c8886f8b6>\n",
            "NOTE: %mprun can only be used on functions defined in physical files, and not in the IPython environment.\n",
            "Caught a ZeroDivisionError\n",
            "This always executes\n",
            "Handling the original ZeroDivisionError at the top level\n"
          ]
        }
      ]
    },
    {
      "cell_type": "markdown",
      "source": [
        "# Question17: Write a python program to create and write a list of a number to a file , one number per line."
      ],
      "metadata": {
        "id": "XO7wxUOyMo6N"
      }
    },
    {
      "cell_type": "code",
      "source": [
        "\n",
        "def write_numbers_to_file(numbers, filename):\n",
        "\n",
        "    try:\n",
        "        with open(filename, 'w') as file:\n",
        "            for number in numbers:\n",
        "                file.write(str(number) + '\\n')\n",
        "        print(f\"Numbers written to '{filename}' successfully.\")\n",
        "    except Exception as e:\n",
        "        print(f\"An error occurred: {e}\")\n",
        "\n",
        "# Example usage\n",
        "my_numbers = [1, 5, 10, 15, 20]\n",
        "write_numbers_to_file(my_numbers, \"numbers.txt\")"
      ],
      "metadata": {
        "colab": {
          "base_uri": "https://localhost:8080/"
        },
        "id": "nL_1nR9gMC9U",
        "outputId": "28979558-99f7-411d-fef9-1b53fe6c9cc5"
      },
      "execution_count": 22,
      "outputs": [
        {
          "output_type": "stream",
          "name": "stdout",
          "text": [
            "Numbers written to 'numbers.txt' successfully.\n"
          ]
        }
      ]
    },
    {
      "cell_type": "markdown",
      "source": [
        "# Question19: Write a  program that handles both indexError and keyError using a try-except block."
      ],
      "metadata": {
        "id": "PeTzL_5mPIlN"
      }
    },
    {
      "cell_type": "code",
      "source": [
        "\n",
        "\n",
        "def access_data(data, key):\n",
        "    try:\n",
        "        if isinstance(data, list):\n",
        "            value = data[key]  # Accessing list element\n",
        "        elif isinstance(data, dict):\n",
        "            value = data[key]  # Accessing dictionary element\n",
        "        else:\n",
        "            print(\"Invalid data type. Please provide a list or a dictionary.\")\n",
        "            return None\n",
        "        print(f\"Successfully accessed: {value}\")\n",
        "\n",
        "    except IndexError:\n",
        "        print(\"IndexError: Index is out of bounds for the given list.\")\n",
        "\n",
        "    except KeyError:\n",
        "        print(\"KeyError: The specified key does not exist in the dictionary.\")\n",
        "\n",
        "    except Exception as e:  # Catch other potential exceptions\n",
        "        print(f\"An unexpected error occurred: {e}\")\n",
        "\n",
        "\n",
        "# Example usage with a list\n",
        "my_list = [1, 2, 3]\n",
        "access_data(my_list, 2)\n",
        "access_data(my_list, 5)\n",
        "\n",
        "\n",
        "# Example usage with a dictionary\n",
        "my_dict = {\"a\": 10, \"b\": 20, \"c\": 30}\n",
        "access_data(my_dict, \"b\")  # Valid access\n",
        "access_data(my_dict, \"d\")  # Key does not exist, catches KeyError"
      ],
      "metadata": {
        "colab": {
          "base_uri": "https://localhost:8080/"
        },
        "id": "I6hXrHxFNy2C",
        "outputId": "64910cae-744d-4584-bde5-5fb43470ec14"
      },
      "execution_count": 25,
      "outputs": [
        {
          "output_type": "stream",
          "name": "stdout",
          "text": [
            "Successfully accessed: 3\n",
            "IndexError: Index is out of bounds for the given list.\n",
            "Successfully accessed: 20\n",
            "KeyError: The specified key does not exist in the dictionary.\n"
          ]
        }
      ]
    },
    {
      "cell_type": "markdown",
      "source": [
        "# Question20: How would you open a file and read its contents using a context manager in python?"
      ],
      "metadata": {
        "id": "ancP0PdhP26J"
      }
    },
    {
      "cell_type": "code",
      "source": [
        "\n",
        "\n",
        "def read_file_contents(filepath):\n",
        "    \"\"\"Reads the contents of a file using a context manager.\n",
        "\n",
        "    Args:\n",
        "        filepath: The path to the file.\n",
        "\n",
        "    Returns:\n",
        "        The contents of the file as a string, or None if an error occurs.\n",
        "    \"\"\"\n",
        "    try:\n",
        "        with open(filepath, 'r') as file:\n",
        "            contents = file.read()\n",
        "            return contents\n",
        "    except FileNotFoundError:\n",
        "        print(f\"Error: File '{filepath}' not found.\")\n",
        "        return None\n",
        "    except Exception as e:\n",
        "        print(f\"An error occurred: {e}\")\n",
        "        return None"
      ],
      "metadata": {
        "id": "meIvxoF4PZ9R"
      },
      "execution_count": 26,
      "outputs": []
    },
    {
      "cell_type": "markdown",
      "source": [
        "# Question21: Write a python program that reads a file and prints the number of occurrences of a specific word."
      ],
      "metadata": {
        "id": "rxXIrnH5QZTk"
      }
    },
    {
      "cell_type": "code",
      "source": [
        "\n",
        "\n",
        "def count_word_occurrences(filename, word):\n",
        "    \"\"\"Counts the occurrences of a specific word in a file.\n",
        "\n",
        "    Args:\n",
        "        filename: The path to the file.\n",
        "        word: The word to search for.\n",
        "\n",
        "    Returns:\n",
        "        The number of times the word appears in the file, or -1 if an error occurs.\n",
        "    \"\"\"\n",
        "    try:\n",
        "        with open(filename, 'r') as file:\n",
        "            contents = file.read()\n",
        "            words = contents.lower().split()  # Convert to lowercase and split into words\n",
        "            count = words.count(word.lower())  # Count occurrences of the word (case-insensitive)\n",
        "            return count\n",
        "    except FileNotFoundError:\n",
        "        print(f\"Error: File '{filename}' not found.\")\n",
        "        return -1\n",
        "    except Exception as e:\n",
        "        print(f\"An error occurred: {e}\")\n",
        "        return -1\n",
        "\n",
        "# Example usage\n",
        "filename = \"filename.txt\"  # Replace with the actual filename\n",
        "word_to_search = \"python\"  # Replace with the word you want to search for\n",
        "occurrences = count_word_occurrences(filename, word_to_search)\n",
        "\n",
        "if occurrences != -1:\n",
        "    print(f\"The word '{word_to_search}' appears {occurrences} times in the file.\")"
      ],
      "metadata": {
        "colab": {
          "base_uri": "https://localhost:8080/"
        },
        "id": "NIy3M7ecP_Nq",
        "outputId": "6a652875-cf57-4ff4-f093-16b36299b37d"
      },
      "execution_count": 27,
      "outputs": [
        {
          "output_type": "stream",
          "name": "stdout",
          "text": [
            "Error: File 'filename.txt' not found.\n"
          ]
        }
      ]
    },
    {
      "cell_type": "markdown",
      "source": [
        "# Question22: How can you check if a file is empty before attempting to read its contents?"
      ],
      "metadata": {
        "id": "qo1PrWYBRPZU"
      }
    },
    {
      "cell_type": "code",
      "source": [
        "\n",
        "\n",
        "import os\n",
        "\n",
        "def read_file_if_not_empty(filepath):\n",
        "    \"\"\"Reads a file if it exists and is not empty.\n",
        "\n",
        "    Args:\n",
        "        filepath: The path to the file.\n",
        "    \"\"\"\n",
        "    if os.path.exists(filepath):\n",
        "        file_size = os.path.getsize(filepath)\n",
        "        if file_size > 0:\n",
        "            try:\n",
        "                with open(filepath, 'r') as file:\n",
        "                    contents = file.read()\n",
        "                    print(contents)\n",
        "            except Exception as e:\n",
        "                print(f\"An error occurred while reading the file: {e}\")\n",
        "        else:\n",
        "            print(f\"The file '{filepath}' is empty.\")\n",
        "    else:\n",
        "        print(f\"Error: File '{filepath}' not found.\")"
      ],
      "metadata": {
        "id": "iTIyTtRHQtJe"
      },
      "execution_count": 28,
      "outputs": []
    },
    {
      "cell_type": "markdown",
      "source": [
        "# Question23: Write a python program that writes to a log file when an error occurs during file handling."
      ],
      "metadata": {
        "id": "-XRizqcTR1vs"
      }
    },
    {
      "cell_type": "code",
      "source": [
        ".\n",
        "\n",
        "import logging\n",
        "\n",
        "def file_operations(filename):\n",
        "    try:\n",
        "        with open(filename, 'r') as file:\n",
        "            contents = file.read()\n",
        "            # Perform operations on the file contents\n",
        "            print(contents)\n",
        "    except FileNotFoundError:\n",
        "        logging.error(f\"Error: File '{filename}' not found.\")\n",
        "    except Exception as e:\n",
        "        logging.exception(f\"An unexpected error occurred: {e}\")\n",
        "\n",
        "# Configure the logging system to write to a file\n",
        "logging.basicConfig(filename='error.log', level=logging.ERROR,\n",
        "                    format='%(asctime)s - %(levelname)s - %(message)s')\n",
        "\n",
        "file_operations('my_file.txt') # Replace 'my_file.txt' with actual file path"
      ],
      "metadata": {
        "colab": {
          "base_uri": "https://localhost:8080/"
        },
        "id": "rTvp6e9sRWpu",
        "outputId": "2f471ed3-da7f-4cce-a312-80ad2eec6033"
      },
      "execution_count": 29,
      "outputs": [
        {
          "output_type": "stream",
          "name": "stderr",
          "text": [
            "ERROR:root:Error: File 'my_file.txt' not found.\n"
          ]
        }
      ]
    }
  ],
  "metadata": {
    "colab": {
      "provenance": []
    },
    "kernelspec": {
      "display_name": "Python 3",
      "name": "python3"
    },
    "language_info": {
      "name": "python"
    }
  },
  "nbformat": 4,
  "nbformat_minor": 0
}